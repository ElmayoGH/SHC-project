{
 "cells": [
  {
   "cell_type": "markdown",
   "id": "fd7fbcd3",
   "metadata": {},
   "source": [
    "# Sustainable Heating & Cooling project "
   ]
  },
  {
   "cell_type": "markdown",
   "id": "5850ff9b",
   "metadata": {},
   "source": [
    "## Task 1\n",
    "Simulate the Pasta cooking step of the pasta cooker "
   ]
  },
  {
   "cell_type": "markdown",
   "id": "d42b4bb9",
   "metadata": {},
   "source": [
    "#### Data and Package importation: "
   ]
  },
  {
   "cell_type": "code",
   "execution_count": 1,
   "id": "6a167aa5",
   "metadata": {},
   "outputs": [],
   "source": [
    "from pylab import *\n",
    "import matplotlib.pyplot as plt\n",
    "import numpy as np\n",
    "import Fluid_CP as FCP #calculation of  thermodynamic states\n",
    "import pandas as pd"
   ]
  },
  {
   "cell_type": "code",
   "execution_count": null,
   "id": "266bc48b",
   "metadata": {},
   "outputs": [],
   "source": [
    "# === Simulation parameters ===\n",
    "sim_duration = 12 * 3600      # [s] total simulation time (12 h)\n",
    "\n",
    "# === Pasta cooking parameters ===\n",
    "m_pasta_batch   = 2.0         # [kg] pasta per batch\n",
    "m_pasta_basket  = 0.5         # [kg] pasta per basket\n",
    "n_baskets       = 4.0         # number of pasta baskets\n",
    "t_env          = 20.0        # [°C] outside temperature\n",
    "t_p_0           = 7.0         # [°C] initial pasta temperature\n",
    "t_p_tgt  = 85.0        # [°C] cooking temperature \n",
    "t_w_init = 20.0        # [°C] ambient start temperature \n",
    "t_w_min     = 85.0        # [°C] lower control bound \n",
    "t_w_max     = 93.0        # [°C] upper control bound \n",
    "t_cook          = 7 * 60      # [s] cooking time per batch \n",
    "t_break         = 5 * 60      # [s] break between batches \n",
    "\n",
    "# === Thermal resistances ===\n",
    "r_env_water   = 30.0          # environment ↔ water \n",
    "r_water_pasta = 15.0          # water ↔ pasta \n",
    "\n",
    "# === Specific heats ===\n",
    "cp_water = 4.18e3             # [J/kg/K] water \n",
    "cp_pasta = 3.5e3              # [J/kg/K] pasta \n",
    "\n",
    "# === Cooker Dimensions ===\n",
    "W_ext = 0.27 #[m]\n",
    "L_ext = 0.47 #[m]\n",
    "W_in = 0.10 #[m]\n",
    "L_in = 0.20 #[m]\n",
    "H_ext = 0.20 #[m]\n",
    "H_in = 0.15 #[m]\n",
    "wall_thick = 0.02 #[m]"
   ]
  },
  {
   "cell_type": "markdown",
   "id": "d80b8a3b",
   "metadata": {},
   "source": [
    "#### Determine the required heating power during the pasta cooking phase"
   ]
  },
  {
   "cell_type": "code",
   "execution_count": null,
   "id": "3dfd937e",
   "metadata": {},
   "outputs": [],
   "source": [
    "\n",
    "#calling it with t_w= t_w_min for now\n",
    "t_w= t_w_min\n",
    "def required_heating_power(t_w,r_water_pasta,r_env_water,t_p_0,m_pasta_batch,cp_pasta):\n",
    "    #for now I assume the the cooking température is 85 degrees\n",
    "    P_loss = (t_w-t_env)/r_env_water\n",
    "    P_pasta_max = (t_w-t_p_0)/r_water_pasta\n",
    "    P_peak = P_loss + P_pasta_max\n",
    "    \n",
    "    P_pasta = m_pasta_batch*cp_pasta(t_w-t_p_0)\n",
    "    E_pasta_avg = P_pasta/t_cook\n",
    "\n",
    "    P_avg = P_pasta+P_loss\n",
    "\n",
    "    return P_avg, P_peak, E_pasta_avg"
   ]
  },
  {
   "cell_type": "code",
   "execution_count": null,
   "id": "c249093c",
   "metadata": {},
   "outputs": [],
   "source": [
    "def dTwdt(t,Tw,Qcond):\n",
    "    return (Qcond - (1/Renv)*(Tw - Tenv))/(mw*cpw)\n",
    "\n",
    "t = np.linspace(0,10*60,300)\n",
    "sol = odeint(dTwdt, y0 = T0, t=t, tfirst = True)\n",
    "\n",
    "Tw_sol = sol.T[0]\n",
    "plt.plot(t,Tw_sol)\n",
    "print(Tw_sol[299])\n",
    "\n",
    "\n",
    "\n",
    "\n",
    "\n",
    "\n",
    "def heating_phase_power()"
   ]
  }
 ],
 "metadata": {
  "kernelspec": {
   "display_name": "Python [conda env:base] *",
   "language": "python",
   "name": "conda-base-py"
  },
  "language_info": {
   "codemirror_mode": {
    "name": "ipython",
    "version": 3
   },
   "file_extension": ".py",
   "mimetype": "text/x-python",
   "name": "python",
   "nbconvert_exporter": "python",
   "pygments_lexer": "ipython3",
   "version": "3.12.7"
  }
 },
 "nbformat": 4,
 "nbformat_minor": 5
}
